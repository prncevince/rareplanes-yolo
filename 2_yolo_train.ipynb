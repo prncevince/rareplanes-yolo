{
 "cells": [
  {
   "cell_type": "markdown",
   "metadata": {},
   "source": [
    "# 2. YOLO RarePlanes Model Training & Preliminary Inference\n",
    "\n",
    "In this notebook you will train your YOLOv5 model and run a preliminary inference pipeline on the tiled images. Please pay specific attention to how directories and files are named/renamed (both in this notebook and in the previous one) as different or incorrect names may cause the pipleine to break. "
   ]
  },
  {
   "cell_type": "markdown",
   "metadata": {},
   "source": [
    "The following is the training command for YOLO—on this EC2 machine, training takes roughly 4 - 5 hours. If you are using a custom class, you will have to edit the `.yaml` file in data with the class specific information. Addtionally, if you would like to use another version of the model, you can specifiy a different `.yaml` file from the models directory. "
   ]
  },
  {
   "cell_type": "code",
   "execution_count": null,
   "metadata": {},
   "outputs": [],
   "source": [
    "!python train.py --img 512 --batch 18 --epochs 100 --device 0 --data ./data/class_one.yaml --cfg ./models/yolov5l.yaml --weights '' --name yolov5l_rareplanes"
   ]
  },
  {
   "cell_type": "markdown",
   "metadata": {},
   "source": [
    "Next, move the most recent run to the `class_one_yolov5l` in the `./runs/` directory. In the case of multiple runs the number may be greater than zero, but should follow the syntax below."
   ]
  },
  {
   "cell_type": "code",
   "execution_count": null,
   "metadata": {},
   "outputs": [],
   "source": [
    "!mv ./runs/exp0_yolov5l_rareplanes ./runs/class_one_yolov5l"
   ]
  },
  {
   "cell_type": "markdown",
   "metadata": {},
   "source": [
    "### Running Inference & Preliminary Evaluaiton \n",
    "\n",
    "The following command is used to run the inference pipeline. The weights used are those from the best epoch in training. Increasing the confidence will increase precision while decreasing recall. Also, make sure the save text flag is included as the YOLO labels output by inference will be necessary for the rest of the evaluation pipeline"
   ]
  },
  {
   "cell_type": "code",
   "execution_count": null,
   "metadata": {},
   "outputs": [],
   "source": [
    "!python detect.py --weights ./runs/class_one_yolov5l/weights/best_yolov5l_rareplanes.pt --img 512 --conf 0.4 --source ../class_one/images/val/ --save-txt"
   ]
  },
  {
   "cell_type": "code",
   "execution_count": null,
   "metadata": {},
   "outputs": [],
   "source": [
    "!mv ./inference/output ./inference/class_one_out"
   ]
  },
  {
   "cell_type": "markdown",
   "metadata": {},
   "source": [
    "The following command is used to find preliminary resutls. It outputs the precision, recall, and mean average precision by class for the tiled images. For the most accurate resutls, though, we will need to combine the tiled image predictions and compare with the original images. In notebooks 2 and 3, we will complete teh model evaluation pipeline. "
   ]
  },
  {
   "cell_type": "code",
   "execution_count": null,
   "metadata": {},
   "outputs": [],
   "source": [
    "!python test.py --weights ./runs/class_one_yolov5l/weights/best_yolov5l_rareplanes.pt --data ./data/class_one.yaml --img 512 --verbose --conf-thres 0.4"
   ]
  },
  {
   "cell_type": "markdown",
   "metadata": {},
   "source": [
    "Please head to the notebook titled `3_yolo_post_processing.ipynb`"
   ]
  },
  {
   "cell_type": "code",
   "execution_count": null,
   "metadata": {},
   "outputs": [],
   "source": []
  }
 ],
 "metadata": {
  "kernelspec": {
   "display_name": "Python [conda env:rareplanes]",
   "language": "python",
   "name": "conda-env-rareplanes-py"
  },
  "language_info": {
   "codemirror_mode": {
    "name": "ipython",
    "version": 3
   },
   "file_extension": ".py",
   "mimetype": "text/x-python",
   "name": "python",
   "nbconvert_exporter": "python",
   "pygments_lexer": "ipython3",
   "version": "3.10.9"
  }
 },
 "nbformat": 4,
 "nbformat_minor": 4
}
